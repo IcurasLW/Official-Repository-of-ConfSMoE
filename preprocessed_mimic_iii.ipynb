{
 "cells": [
  {
   "cell_type": "markdown",
   "metadata": {},
   "source": [
    "## Pre-embedding Notes "
   ]
  },
  {
   "cell_type": "markdown",
   "metadata": {},
   "source": []
  },
  {
   "cell_type": "code",
   "execution_count": 1,
   "metadata": {},
   "outputs": [
    {
     "name": "stderr",
     "output_type": "stream",
     "text": [
      "/opt/conda/Anaconda3/envs/IRTS/lib/python3.10/site-packages/torch/cuda/__init__.py:118: UserWarning: CUDA initialization: Unexpected error from cudaGetDeviceCount(). Did you run some cuda functions before calling NumCudaDevices() that might have already set an error? Error 804: forward compatibility was attempted on non supported HW (Triggered internally at ../c10/cuda/CUDAFunctions.cpp:108.)\n",
      "  return torch._C._cuda_getDeviceCount() > 0\n"
     ]
    },
    {
     "data": {
      "text/plain": [
       "False"
      ]
     },
     "execution_count": 1,
     "metadata": {},
     "output_type": "execute_result"
    }
   ],
   "source": [
    "import torch\n",
    "torch.cuda.is_available()\n"
   ]
  },
  {
   "cell_type": "code",
   "execution_count": 2,
   "metadata": {},
   "outputs": [
    {
     "name": "stderr",
     "output_type": "stream",
     "text": [
      "/opt/conda/Anaconda3/envs/kanbefair/lib/python3.9/site-packages/tqdm/auto.py:21: TqdmWarning: IProgress not found. Please update jupyter and ipywidgets. See https://ipywidgets.readthedocs.io/en/stable/user_install.html\n",
      "  from .autonotebook import tqdm as notebook_tqdm\n",
      "/opt/conda/Anaconda3/envs/kanbefair/lib/python3.9/site-packages/scipy/__init__.py:146: UserWarning: A NumPy version >=1.17.3 and <1.25.0 is required for this version of SciPy (detected version 1.26.0\n",
      "  warnings.warn(f\"A NumPy version >={np_minversion} and <{np_maxversion}\"\n"
     ]
    }
   ],
   "source": [
    "import transformers\n",
    "import pandas as pd \n",
    "import numpy as np\n",
    "import pickle\n",
    "from transformers import AutoTokenizer, AutoModel\n",
    "import torch\n",
    "import pickle\n",
    "\n"
   ]
  },
  {
   "cell_type": "markdown",
   "metadata": {},
   "source": [
    "## In-Hospital-Mortality"
   ]
  },
  {
   "cell_type": "code",
   "execution_count": null,
   "metadata": {},
   "outputs": [],
   "source": [
    "\n",
    "## Preprocessing the MIMIC-III\n",
    "for i in ['train', 'test']:\n",
    "    data_path = f'/home/nathan/Missing_Modality/Data/mimic-iii-processed/in-hospital-mortality/{i}p2x_data.pkl'\n",
    "    with open(data_path, 'rb') as file:\n",
    "        data = pickle.load(file)\n",
    "        \n",
    "    tokenizer = AutoTokenizer.from_pretrained(\"emilyalsentzer/Bio_ClinicalBERT\")\n",
    "    model = AutoModel.from_pretrained(\"emilyalsentzer/Bio_ClinicalBERT\")\n",
    "    for idx, patient in enumerate(data):\n",
    "        if 'text_data' in patient:\n",
    "            inputs = tokenizer(patient['text_data'], padding=True, return_tensors=\"pt\", max_length=256, truncation=True)\n",
    "            with torch.no_grad():\n",
    "                outputs = model(**inputs)\n",
    "                last_hidden_state = outputs.last_hidden_state\n",
    "                last_hidden_state = last_hidden_state.mean(dim=0)\n",
    "            \n",
    "        else:\n",
    "            last_hidden_state = torch.zeros((1,1,1))\n",
    "        \n",
    "        data[idx]['text_embedding'] = last_hidden_state.squeeze(0)\n",
    "\n",
    "    with open(f\"/home/nathan/Missing_Modality/Data/mimic-iii-processed/in-hospital-mortality/{i}_embedding.pkl\", \"wb\") as save_obj:\n",
    "        data_obj = pickle.dump(data, save_obj)"
   ]
  },
  {
   "cell_type": "markdown",
   "metadata": {},
   "source": [
    "### Length-of-Stay"
   ]
  },
  {
   "cell_type": "code",
   "execution_count": 3,
   "metadata": {},
   "outputs": [],
   "source": [
    "\n",
    "## Preprocessing the MIMIC-III\n",
    "for i in ['train', 'test']:\n",
    "    data_path = f'/home/nathan/Missing_Modality/Data/mimic-iii-processed/length-of-stay/{i}p2x_data.pkl'\n",
    "    with open(data_path, 'rb') as file:\n",
    "        data = pickle.load(file)\n",
    "    tokenizer = AutoTokenizer.from_pretrained(\"emilyalsentzer/Bio_ClinicalBERT\")\n",
    "    model = AutoModel.from_pretrained(\"emilyalsentzer/Bio_ClinicalBERT\")\n",
    "    for idx, patient in enumerate(data):\n",
    "        if 'text_data' in patient:\n",
    "            inputs = tokenizer(patient['text_data'], padding=True, return_tensors=\"pt\", max_length=256, truncation=True)\n",
    "            with torch.no_grad():\n",
    "                outputs = model(**inputs)\n",
    "                last_hidden_state = outputs.last_hidden_state\n",
    "                last_hidden_state = last_hidden_state.mean(dim=0)\n",
    "        else:\n",
    "            last_hidden_state = torch.zeros((1,1,1))\n",
    "        \n",
    "        data[idx]['text_embedding'] = last_hidden_state.squeeze(0)\n",
    "        # Consider this as binary classification task too\n",
    "        # less than 3 days --> 0\n",
    "        # more than 3 days --> 1\n",
    "        thresh = 24 * 3 \n",
    "        data[idx]['label'] = int(data[idx]['label'] >= thresh)\n",
    "        \n",
    "    with open(f\"/home/nathan/Missing_Modality/Data/mimic-iii-processed/length-of-stay/{i}_embedding.pkl\", \"wb\") as save_obj:\n",
    "        data_obj = pickle.dump(data, save_obj)"
   ]
  },
  {
   "cell_type": "markdown",
   "metadata": {},
   "source": [
    "## Phenotyping"
   ]
  },
  {
   "cell_type": "code",
   "execution_count": 4,
   "metadata": {},
   "outputs": [],
   "source": [
    "\n",
    "## Preprocessing the MIMIC-III\n",
    "for i in ['train', 'test']:\n",
    "    data_path = f'/home/nathan/Missing_Modality/Data/mimic-iii-processed/phenotyping/{i}p2x_data.pkl'\n",
    "    with open(data_path, 'rb') as file:\n",
    "        data = pickle.load(file)\n",
    "    tokenizer = AutoTokenizer.from_pretrained(\"emilyalsentzer/Bio_ClinicalBERT\")\n",
    "    model = AutoModel.from_pretrained(\"emilyalsentzer/Bio_ClinicalBERT\")\n",
    "    for idx, patient in enumerate(data):\n",
    "        if 'text_data' in patient:\n",
    "            inputs = tokenizer(patient['text_data'], padding=True, return_tensors=\"pt\", max_length=256, truncation=True)\n",
    "            with torch.no_grad():\n",
    "                outputs = model(**inputs)\n",
    "                last_hidden_state = outputs.last_hidden_state\n",
    "                last_hidden_state = last_hidden_state.mean(dim=0)\n",
    "        else:\n",
    "            last_hidden_state = torch.zeros((1,1,1))\n",
    "        \n",
    "        data[idx]['text_embedding'] = last_hidden_state.squeeze(0)\n",
    "        \n",
    "    with open(f\"/home/nathan/Missing_Modality/Data/mimic-iii-processed/phenotyping/{i}_embedding.pkl\", \"wb\") as save_obj:\n",
    "        data_obj = pickle.dump(data, save_obj)"
   ]
  },
  {
   "cell_type": "code",
   "execution_count": null,
   "metadata": {},
   "outputs": [],
   "source": []
  }
 ],
 "metadata": {
  "kernelspec": {
   "display_name": "IRTS",
   "language": "python",
   "name": "python3"
  },
  "language_info": {
   "codemirror_mode": {
    "name": "ipython",
    "version": 3
   },
   "file_extension": ".py",
   "mimetype": "text/x-python",
   "name": "python",
   "nbconvert_exporter": "python",
   "pygments_lexer": "ipython3",
   "version": "3.10.14"
  }
 },
 "nbformat": 4,
 "nbformat_minor": 2
}
