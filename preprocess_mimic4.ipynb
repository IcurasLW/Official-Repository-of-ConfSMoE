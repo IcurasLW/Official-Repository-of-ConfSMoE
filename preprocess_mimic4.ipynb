{
 "cells": [
  {
   "cell_type": "code",
   "execution_count": 2,
   "id": "ce29ec90",
   "metadata": {},
   "outputs": [],
   "source": [
    "import pandas as pd  \n",
    "import numpy as np \n",
    "import pickle \n",
    "\n",
    "\n",
    "list_file = '/home/nathan/Missing_Modality/Trust_MoE/data/mimic4/in-hospital-mortality/test_listfile.csv'\n",
    "ecg_data_path = '/home/nathan/Missing_Modality/Trust_MoE/data/mimic4/ECG_data.pkl'\n",
    "cxr_note_path = '/home/nathan/Missing_Modality/Trust_MoE/data/mimic4/CXR_NOTE_data.pkl'\n",
    "df_test = pd.read_csv(list_file)\n",
    "irg_ts_path = '/home/nathan/Missing_Modality/Trust_MoE/data/mimic4/in-hospital-mortality/IRTS_test_data.pkl'\n",
    "\n",
    "\n",
    "with open(irg_ts_path, 'rb') as irg_f:\n",
    "    irg_data = pickle.load(irg_f)\n",
    "\n",
    "with open(ecg_data_path, 'rb') as ecg_f:\n",
    "    ecg_data = pickle.load(ecg_f)\n",
    "\n",
    "# with open(cxr_note_path, 'rb') as cxr_note_f:\n",
    "#     cxr_note_data = pickle.load(cxr_note_f)\n",
    "\n",
    "\n"
   ]
  },
  {
   "cell_type": "code",
   "execution_count": null,
   "id": "e7c673e2",
   "metadata": {},
   "outputs": [
    {
     "data": {
      "text/plain": [
       "array(['10001884_episode1_timeseries.csv',\n",
       "       '10002155_episode1_timeseries.csv',\n",
       "       '10002155_episode2_timeseries.csv', ...,\n",
       "       '19995595_episode1_timeseries.csv',\n",
       "       '19997293_episode2_timeseries.csv',\n",
       "       '19999068_episode1_timeseries.csv'], dtype=object)"
      ]
     },
     "execution_count": 5,
     "metadata": {},
     "output_type": "execute_result"
    }
   ],
   "source": [
    "for sub_id in df_test['stay'].values:\n",
    "    "
   ]
  }
 ],
 "metadata": {
  "kernelspec": {
   "display_name": "kanbefair",
   "language": "python",
   "name": "python3"
  },
  "language_info": {
   "codemirror_mode": {
    "name": "ipython",
    "version": 3
   },
   "file_extension": ".py",
   "mimetype": "text/x-python",
   "name": "python",
   "nbconvert_exporter": "python",
   "pygments_lexer": "ipython3",
   "version": "3.9.18"
  }
 },
 "nbformat": 4,
 "nbformat_minor": 5
}
